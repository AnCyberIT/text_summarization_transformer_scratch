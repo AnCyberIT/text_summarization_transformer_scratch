{
  "cells": [
    {
      "cell_type": "code",
      "execution_count": 8,
      "id": "8413ae94",
      "metadata": {
        "colab": {
          "base_uri": "https://localhost:8080/"
        },
        "execution": {
          "iopub.execute_input": "2024-05-18T16:34:27.200069Z",
          "iopub.status.busy": "2024-05-18T16:34:27.199355Z",
          "iopub.status.idle": "2024-05-18T16:34:41.629805Z",
          "shell.execute_reply": "2024-05-18T16:34:41.628893Z"
        },
        "id": "8413ae94",
        "outputId": "c5078ecc-3652-4e20-9cd6-aa3a2f1d83d2",
        "papermill": {
          "duration": 14.44524,
          "end_time": "2024-05-18T16:34:41.632253",
          "exception": false,
          "start_time": "2024-05-18T16:34:27.187013",
          "status": "completed"
        },
        "tags": []
      },
      "outputs": [
        {
          "output_type": "stream",
          "name": "stdout",
          "text": [
            "Collecting evaluate\n",
            "  Downloading evaluate-0.4.2-py3-none-any.whl (84 kB)\n",
            "\u001b[2K     \u001b[90m━━━━━━━━━━━━━━━━━━━━━━━━━━━━━━━━━━━━━━━━\u001b[0m \u001b[32m84.1/84.1 kB\u001b[0m \u001b[31m3.2 MB/s\u001b[0m eta \u001b[36m0:00:00\u001b[0m\n",
            "\u001b[?25hCollecting sacrebleu\n",
            "  Downloading sacrebleu-2.4.2-py3-none-any.whl (106 kB)\n",
            "\u001b[2K     \u001b[90m━━━━━━━━━━━━━━━━━━━━━━━━━━━━━━━━━━━━━━━━\u001b[0m \u001b[32m106.7/106.7 kB\u001b[0m \u001b[31m12.6 MB/s\u001b[0m eta \u001b[36m0:00:00\u001b[0m\n",
            "\u001b[?25hCollecting datasets>=2.0.0 (from evaluate)\n",
            "  Downloading datasets-2.19.1-py3-none-any.whl (542 kB)\n",
            "\u001b[2K     \u001b[90m━━━━━━━━━━━━━━━━━━━━━━━━━━━━━━━━━━━━━━━━\u001b[0m \u001b[32m542.0/542.0 kB\u001b[0m \u001b[31m51.2 MB/s\u001b[0m eta \u001b[36m0:00:00\u001b[0m\n",
            "\u001b[?25hRequirement already satisfied: numpy>=1.17 in /usr/local/lib/python3.10/dist-packages (from evaluate) (1.25.2)\n",
            "Collecting dill (from evaluate)\n",
            "  Downloading dill-0.3.8-py3-none-any.whl (116 kB)\n",
            "\u001b[2K     \u001b[90m━━━━━━━━━━━━━━━━━━━━━━━━━━━━━━━━━━━━━━━━\u001b[0m \u001b[32m116.3/116.3 kB\u001b[0m \u001b[31m19.2 MB/s\u001b[0m eta \u001b[36m0:00:00\u001b[0m\n",
            "\u001b[?25hRequirement already satisfied: pandas in /usr/local/lib/python3.10/dist-packages (from evaluate) (2.0.3)\n",
            "Requirement already satisfied: requests>=2.19.0 in /usr/local/lib/python3.10/dist-packages (from evaluate) (2.31.0)\n",
            "Requirement already satisfied: tqdm>=4.62.1 in /usr/local/lib/python3.10/dist-packages (from evaluate) (4.66.4)\n",
            "Collecting xxhash (from evaluate)\n",
            "  Downloading xxhash-3.4.1-cp310-cp310-manylinux_2_17_x86_64.manylinux2014_x86_64.whl (194 kB)\n",
            "\u001b[2K     \u001b[90m━━━━━━━━━━━━━━━━━━━━━━━━━━━━━━━━━━━━━━━━\u001b[0m \u001b[32m194.1/194.1 kB\u001b[0m \u001b[31m28.8 MB/s\u001b[0m eta \u001b[36m0:00:00\u001b[0m\n",
            "\u001b[?25hCollecting multiprocess (from evaluate)\n",
            "  Downloading multiprocess-0.70.16-py310-none-any.whl (134 kB)\n",
            "\u001b[2K     \u001b[90m━━━━━━━━━━━━━━━━━━━━━━━━━━━━━━━━━━━━━━━━\u001b[0m \u001b[32m134.8/134.8 kB\u001b[0m \u001b[31m21.7 MB/s\u001b[0m eta \u001b[36m0:00:00\u001b[0m\n",
            "\u001b[?25hRequirement already satisfied: fsspec[http]>=2021.05.0 in /usr/local/lib/python3.10/dist-packages (from evaluate) (2023.6.0)\n",
            "Requirement already satisfied: huggingface-hub>=0.7.0 in /usr/local/lib/python3.10/dist-packages (from evaluate) (0.20.3)\n",
            "Requirement already satisfied: packaging in /usr/local/lib/python3.10/dist-packages (from evaluate) (24.0)\n",
            "Collecting portalocker (from sacrebleu)\n",
            "  Downloading portalocker-2.8.2-py3-none-any.whl (17 kB)\n",
            "Requirement already satisfied: regex in /usr/local/lib/python3.10/dist-packages (from sacrebleu) (2023.12.25)\n",
            "Requirement already satisfied: tabulate>=0.8.9 in /usr/local/lib/python3.10/dist-packages (from sacrebleu) (0.9.0)\n",
            "Collecting colorama (from sacrebleu)\n",
            "  Downloading colorama-0.4.6-py2.py3-none-any.whl (25 kB)\n",
            "Requirement already satisfied: lxml in /usr/local/lib/python3.10/dist-packages (from sacrebleu) (4.9.4)\n",
            "Requirement already satisfied: filelock in /usr/local/lib/python3.10/dist-packages (from datasets>=2.0.0->evaluate) (3.14.0)\n",
            "Requirement already satisfied: pyarrow>=12.0.0 in /usr/local/lib/python3.10/dist-packages (from datasets>=2.0.0->evaluate) (14.0.2)\n",
            "Requirement already satisfied: pyarrow-hotfix in /usr/local/lib/python3.10/dist-packages (from datasets>=2.0.0->evaluate) (0.6)\n",
            "Requirement already satisfied: aiohttp in /usr/local/lib/python3.10/dist-packages (from datasets>=2.0.0->evaluate) (3.9.5)\n",
            "Collecting huggingface-hub>=0.7.0 (from evaluate)\n",
            "  Downloading huggingface_hub-0.23.0-py3-none-any.whl (401 kB)\n",
            "\u001b[2K     \u001b[90m━━━━━━━━━━━━━━━━━━━━━━━━━━━━━━━━━━━━━━━━\u001b[0m \u001b[32m401.2/401.2 kB\u001b[0m \u001b[31m48.6 MB/s\u001b[0m eta \u001b[36m0:00:00\u001b[0m\n",
            "\u001b[?25hRequirement already satisfied: pyyaml>=5.1 in /usr/local/lib/python3.10/dist-packages (from datasets>=2.0.0->evaluate) (6.0.1)\n",
            "Requirement already satisfied: typing-extensions>=3.7.4.3 in /usr/local/lib/python3.10/dist-packages (from huggingface-hub>=0.7.0->evaluate) (4.11.0)\n",
            "Requirement already satisfied: charset-normalizer<4,>=2 in /usr/local/lib/python3.10/dist-packages (from requests>=2.19.0->evaluate) (3.3.2)\n",
            "Requirement already satisfied: idna<4,>=2.5 in /usr/local/lib/python3.10/dist-packages (from requests>=2.19.0->evaluate) (3.7)\n",
            "Requirement already satisfied: urllib3<3,>=1.21.1 in /usr/local/lib/python3.10/dist-packages (from requests>=2.19.0->evaluate) (2.0.7)\n",
            "Requirement already satisfied: certifi>=2017.4.17 in /usr/local/lib/python3.10/dist-packages (from requests>=2.19.0->evaluate) (2024.2.2)\n",
            "Requirement already satisfied: python-dateutil>=2.8.2 in /usr/local/lib/python3.10/dist-packages (from pandas->evaluate) (2.8.2)\n",
            "Requirement already satisfied: pytz>=2020.1 in /usr/local/lib/python3.10/dist-packages (from pandas->evaluate) (2023.4)\n",
            "Requirement already satisfied: tzdata>=2022.1 in /usr/local/lib/python3.10/dist-packages (from pandas->evaluate) (2024.1)\n",
            "Requirement already satisfied: aiosignal>=1.1.2 in /usr/local/lib/python3.10/dist-packages (from aiohttp->datasets>=2.0.0->evaluate) (1.3.1)\n",
            "Requirement already satisfied: attrs>=17.3.0 in /usr/local/lib/python3.10/dist-packages (from aiohttp->datasets>=2.0.0->evaluate) (23.2.0)\n",
            "Requirement already satisfied: frozenlist>=1.1.1 in /usr/local/lib/python3.10/dist-packages (from aiohttp->datasets>=2.0.0->evaluate) (1.4.1)\n",
            "Requirement already satisfied: multidict<7.0,>=4.5 in /usr/local/lib/python3.10/dist-packages (from aiohttp->datasets>=2.0.0->evaluate) (6.0.5)\n",
            "Requirement already satisfied: yarl<2.0,>=1.0 in /usr/local/lib/python3.10/dist-packages (from aiohttp->datasets>=2.0.0->evaluate) (1.9.4)\n",
            "Requirement already satisfied: async-timeout<5.0,>=4.0 in /usr/local/lib/python3.10/dist-packages (from aiohttp->datasets>=2.0.0->evaluate) (4.0.3)\n",
            "Requirement already satisfied: six>=1.5 in /usr/local/lib/python3.10/dist-packages (from python-dateutil>=2.8.2->pandas->evaluate) (1.16.0)\n",
            "Installing collected packages: xxhash, portalocker, dill, colorama, sacrebleu, multiprocess, huggingface-hub, datasets, evaluate\n",
            "  Attempting uninstall: huggingface-hub\n",
            "    Found existing installation: huggingface-hub 0.20.3\n",
            "    Uninstalling huggingface-hub-0.20.3:\n",
            "      Successfully uninstalled huggingface-hub-0.20.3\n",
            "Successfully installed colorama-0.4.6 datasets-2.19.1 dill-0.3.8 evaluate-0.4.2 huggingface-hub-0.23.0 multiprocess-0.70.16 portalocker-2.8.2 sacrebleu-2.4.2 xxhash-3.4.1\n"
          ]
        }
      ],
      "source": [
        "!pip install evaluate sacrebleu"
      ]
    },
    {
      "cell_type": "code",
      "execution_count": 9,
      "id": "53898eb3",
      "metadata": {
        "execution": {
          "iopub.execute_input": "2024-05-18T16:34:41.657820Z",
          "iopub.status.busy": "2024-05-18T16:34:41.657524Z",
          "iopub.status.idle": "2024-05-18T16:34:47.345723Z",
          "shell.execute_reply": "2024-05-18T16:34:47.344910Z"
        },
        "id": "53898eb3",
        "papermill": {
          "duration": 5.703615,
          "end_time": "2024-05-18T16:34:47.348152",
          "exception": false,
          "start_time": "2024-05-18T16:34:41.644537",
          "status": "completed"
        },
        "tags": []
      },
      "outputs": [],
      "source": [
        "import torch\n",
        "import torch.nn as nn\n",
        "import numpy as np\n",
        "import pandas as pd\n",
        "from torch.utils.data import Dataset, DataLoader,TensorDataset\n",
        "from torchtext.data.utils import get_tokenizer\n",
        "from torchtext.vocab import build_vocab_from_iterator\n",
        "from torch.optim import Adam\n",
        "from torch.optim.lr_scheduler import LambdaLR\n",
        "import time\n",
        "import torch\n",
        "from torchtext.data.utils import get_tokenizer\n",
        "from torch.nn.utils.rnn import pad_sequence\n",
        "from sklearn.model_selection import train_test_split\n",
        "import matplotlib.pyplot as plt\n"
      ]
    },
    {
      "cell_type": "code",
      "execution_count": 10,
      "id": "7b010ff3",
      "metadata": {
        "colab": {
          "base_uri": "https://localhost:8080/"
        },
        "execution": {
          "iopub.execute_input": "2024-05-18T16:34:47.406501Z",
          "iopub.status.busy": "2024-05-18T16:34:47.406212Z",
          "iopub.status.idle": "2024-05-18T16:34:47.480535Z",
          "shell.execute_reply": "2024-05-18T16:34:47.479626Z"
        },
        "id": "7b010ff3",
        "outputId": "ef9e065d-e67b-49eb-caca-055a49f1e1cc",
        "papermill": {
          "duration": 0.090637,
          "end_time": "2024-05-18T16:34:47.482937",
          "exception": false,
          "start_time": "2024-05-18T16:34:47.392300",
          "status": "completed"
        },
        "tags": []
      },
      "outputs": [
        {
          "output_type": "stream",
          "name": "stdout",
          "text": [
            "cuda\n"
          ]
        }
      ],
      "source": [
        "device = torch.device('cuda' if torch.cuda.is_available() else 'cpu')\n",
        "print(device)"
      ]
    },
    {
      "cell_type": "code",
      "source": [
        "from google.colab import drive\n",
        "drive.mount('/content/drive')"
      ],
      "metadata": {
        "colab": {
          "base_uri": "https://localhost:8080/"
        },
        "id": "Vgl0HW5C7usl",
        "outputId": "ac763644-881d-423b-cbe8-db697bedaff3"
      },
      "id": "Vgl0HW5C7usl",
      "execution_count": 11,
      "outputs": [
        {
          "output_type": "stream",
          "name": "stdout",
          "text": [
            "Drive already mounted at /content/drive; to attempt to forcibly remount, call drive.mount(\"/content/drive\", force_remount=True).\n"
          ]
        }
      ]
    },
    {
      "cell_type": "code",
      "execution_count": 12,
      "id": "edf82184",
      "metadata": {
        "execution": {
          "iopub.execute_input": "2024-05-18T16:34:47.510360Z",
          "iopub.status.busy": "2024-05-18T16:34:47.509688Z",
          "iopub.status.idle": "2024-05-18T16:34:57.409068Z",
          "shell.execute_reply": "2024-05-18T16:34:57.408076Z"
        },
        "id": "edf82184",
        "papermill": {
          "duration": 9.915111,
          "end_time": "2024-05-18T16:34:57.411306",
          "exception": false,
          "start_time": "2024-05-18T16:34:47.496195",
          "status": "completed"
        },
        "tags": []
      },
      "outputs": [],
      "source": [
        "# Load and preprocess the dataset\n",
        "df = pd.read_excel(\"/content/drive/MyDrive/Data/summarization.xlsx\")"
      ]
    },
    {
      "cell_type": "code",
      "execution_count": 13,
      "id": "GRGy79XNsfjJ",
      "metadata": {
        "colab": {
          "base_uri": "https://localhost:8080/",
          "height": 423
        },
        "id": "GRGy79XNsfjJ",
        "outputId": "f6ea9b82-8154-4430-e65e-81f4639215d0"
      },
      "outputs": [
        {
          "output_type": "execute_result",
          "data": {
            "text/plain": [
              "                                                Headline  \\\n",
              "34023   BAI announces ₹50 lakh cash reward for PV Sindhu   \n",
              "37456  &#39;Tere Sang Yaara&#39; song from &#39;Rusto...   \n",
              "28533  Percentage of women on Indian boards doubles i...   \n",
              "40192      Will continue work on India&#39;s NSG bid: US   \n",
              "42553    Maruti launches new Alto 800 starting at ₹2.49L   \n",
              "...                                                  ...   \n",
              "44732    3D printed glasses help blind read printed text   \n",
              "54343          Atletico Madrid crash out of Copa del Rey   \n",
              "38158           Video explains the phenomenon of déjà vu   \n",
              "860    87 lakh fake, duplicate job cards removed from...   \n",
              "15795  Nokia unveils 2.5G feature phones priced at ₹2...   \n",
              "\n",
              "                                                   Short  \n",
              "34023  Badminton Association of India President Akhil...  \n",
              "37456  &#39;Tere Sang Yaara&#39;, the first song from...  \n",
              "28533  The percentage of women on the boards of firms...  \n",
              "40192  United States&#39; Ambassador to India, Richar...  \n",
              "42553  Maruti Suzuki today launched the 2016 Alto 800...  \n",
              "...                                                  ...  \n",
              "44732  A Poland-based non-profit organisation has dev...  \n",
              "54343  Atletico Madrid were knocked out of the Copa d...  \n",
              "38158  A six-minute video explains the phenomenon of ...  \n",
              "860    To check the &#34;misuse&#34; of funds under M...  \n",
              "15795  Nokia has announced two feature phones, &#39;1...  \n",
              "\n",
              "[44083 rows x 2 columns]"
            ],
            "text/html": [
              "\n",
              "  <div id=\"df-4670d34e-e831-4d0e-ac40-e715d3c538f1\" class=\"colab-df-container\">\n",
              "    <div>\n",
              "<style scoped>\n",
              "    .dataframe tbody tr th:only-of-type {\n",
              "        vertical-align: middle;\n",
              "    }\n",
              "\n",
              "    .dataframe tbody tr th {\n",
              "        vertical-align: top;\n",
              "    }\n",
              "\n",
              "    .dataframe thead th {\n",
              "        text-align: right;\n",
              "    }\n",
              "</style>\n",
              "<table border=\"1\" class=\"dataframe\">\n",
              "  <thead>\n",
              "    <tr style=\"text-align: right;\">\n",
              "      <th></th>\n",
              "      <th>Headline</th>\n",
              "      <th>Short</th>\n",
              "    </tr>\n",
              "  </thead>\n",
              "  <tbody>\n",
              "    <tr>\n",
              "      <th>34023</th>\n",
              "      <td>BAI announces ₹50 lakh cash reward for PV Sindhu</td>\n",
              "      <td>Badminton Association of India President Akhil...</td>\n",
              "    </tr>\n",
              "    <tr>\n",
              "      <th>37456</th>\n",
              "      <td>&amp;#39;Tere Sang Yaara&amp;#39; song from &amp;#39;Rusto...</td>\n",
              "      <td>&amp;#39;Tere Sang Yaara&amp;#39;, the first song from...</td>\n",
              "    </tr>\n",
              "    <tr>\n",
              "      <th>28533</th>\n",
              "      <td>Percentage of women on Indian boards doubles i...</td>\n",
              "      <td>The percentage of women on the boards of firms...</td>\n",
              "    </tr>\n",
              "    <tr>\n",
              "      <th>40192</th>\n",
              "      <td>Will continue work on India&amp;#39;s NSG bid: US</td>\n",
              "      <td>United States&amp;#39; Ambassador to India, Richar...</td>\n",
              "    </tr>\n",
              "    <tr>\n",
              "      <th>42553</th>\n",
              "      <td>Maruti launches new Alto 800 starting at ₹2.49L</td>\n",
              "      <td>Maruti Suzuki today launched the 2016 Alto 800...</td>\n",
              "    </tr>\n",
              "    <tr>\n",
              "      <th>...</th>\n",
              "      <td>...</td>\n",
              "      <td>...</td>\n",
              "    </tr>\n",
              "    <tr>\n",
              "      <th>44732</th>\n",
              "      <td>3D printed glasses help blind read printed text</td>\n",
              "      <td>A Poland-based non-profit organisation has dev...</td>\n",
              "    </tr>\n",
              "    <tr>\n",
              "      <th>54343</th>\n",
              "      <td>Atletico Madrid crash out of Copa del Rey</td>\n",
              "      <td>Atletico Madrid were knocked out of the Copa d...</td>\n",
              "    </tr>\n",
              "    <tr>\n",
              "      <th>38158</th>\n",
              "      <td>Video explains the phenomenon of déjà vu</td>\n",
              "      <td>A six-minute video explains the phenomenon of ...</td>\n",
              "    </tr>\n",
              "    <tr>\n",
              "      <th>860</th>\n",
              "      <td>87 lakh fake, duplicate job cards removed from...</td>\n",
              "      <td>To check the &amp;#34;misuse&amp;#34; of funds under M...</td>\n",
              "    </tr>\n",
              "    <tr>\n",
              "      <th>15795</th>\n",
              "      <td>Nokia unveils 2.5G feature phones priced at ₹2...</td>\n",
              "      <td>Nokia has announced two feature phones, &amp;#39;1...</td>\n",
              "    </tr>\n",
              "  </tbody>\n",
              "</table>\n",
              "<p>44083 rows × 2 columns</p>\n",
              "</div>\n",
              "    <div class=\"colab-df-buttons\">\n",
              "\n",
              "  <div class=\"colab-df-container\">\n",
              "    <button class=\"colab-df-convert\" onclick=\"convertToInteractive('df-4670d34e-e831-4d0e-ac40-e715d3c538f1')\"\n",
              "            title=\"Convert this dataframe to an interactive table.\"\n",
              "            style=\"display:none;\">\n",
              "\n",
              "  <svg xmlns=\"http://www.w3.org/2000/svg\" height=\"24px\" viewBox=\"0 -960 960 960\">\n",
              "    <path d=\"M120-120v-720h720v720H120Zm60-500h600v-160H180v160Zm220 220h160v-160H400v160Zm0 220h160v-160H400v160ZM180-400h160v-160H180v160Zm440 0h160v-160H620v160ZM180-180h160v-160H180v160Zm440 0h160v-160H620v160Z\"/>\n",
              "  </svg>\n",
              "    </button>\n",
              "\n",
              "  <style>\n",
              "    .colab-df-container {\n",
              "      display:flex;\n",
              "      gap: 12px;\n",
              "    }\n",
              "\n",
              "    .colab-df-convert {\n",
              "      background-color: #E8F0FE;\n",
              "      border: none;\n",
              "      border-radius: 50%;\n",
              "      cursor: pointer;\n",
              "      display: none;\n",
              "      fill: #1967D2;\n",
              "      height: 32px;\n",
              "      padding: 0 0 0 0;\n",
              "      width: 32px;\n",
              "    }\n",
              "\n",
              "    .colab-df-convert:hover {\n",
              "      background-color: #E2EBFA;\n",
              "      box-shadow: 0px 1px 2px rgba(60, 64, 67, 0.3), 0px 1px 3px 1px rgba(60, 64, 67, 0.15);\n",
              "      fill: #174EA6;\n",
              "    }\n",
              "\n",
              "    .colab-df-buttons div {\n",
              "      margin-bottom: 4px;\n",
              "    }\n",
              "\n",
              "    [theme=dark] .colab-df-convert {\n",
              "      background-color: #3B4455;\n",
              "      fill: #D2E3FC;\n",
              "    }\n",
              "\n",
              "    [theme=dark] .colab-df-convert:hover {\n",
              "      background-color: #434B5C;\n",
              "      box-shadow: 0px 1px 3px 1px rgba(0, 0, 0, 0.15);\n",
              "      filter: drop-shadow(0px 1px 2px rgba(0, 0, 0, 0.3));\n",
              "      fill: #FFFFFF;\n",
              "    }\n",
              "  </style>\n",
              "\n",
              "    <script>\n",
              "      const buttonEl =\n",
              "        document.querySelector('#df-4670d34e-e831-4d0e-ac40-e715d3c538f1 button.colab-df-convert');\n",
              "      buttonEl.style.display =\n",
              "        google.colab.kernel.accessAllowed ? 'block' : 'none';\n",
              "\n",
              "      async function convertToInteractive(key) {\n",
              "        const element = document.querySelector('#df-4670d34e-e831-4d0e-ac40-e715d3c538f1');\n",
              "        const dataTable =\n",
              "          await google.colab.kernel.invokeFunction('convertToInteractive',\n",
              "                                                    [key], {});\n",
              "        if (!dataTable) return;\n",
              "\n",
              "        const docLinkHtml = 'Like what you see? Visit the ' +\n",
              "          '<a target=\"_blank\" href=https://colab.research.google.com/notebooks/data_table.ipynb>data table notebook</a>'\n",
              "          + ' to learn more about interactive tables.';\n",
              "        element.innerHTML = '';\n",
              "        dataTable['output_type'] = 'display_data';\n",
              "        await google.colab.output.renderOutput(dataTable, element);\n",
              "        const docLink = document.createElement('div');\n",
              "        docLink.innerHTML = docLinkHtml;\n",
              "        element.appendChild(docLink);\n",
              "      }\n",
              "    </script>\n",
              "  </div>\n",
              "\n",
              "\n",
              "<div id=\"df-79969d19-5ea6-4ec8-9bc4-c661277a49e1\">\n",
              "  <button class=\"colab-df-quickchart\" onclick=\"quickchart('df-79969d19-5ea6-4ec8-9bc4-c661277a49e1')\"\n",
              "            title=\"Suggest charts\"\n",
              "            style=\"display:none;\">\n",
              "\n",
              "<svg xmlns=\"http://www.w3.org/2000/svg\" height=\"24px\"viewBox=\"0 0 24 24\"\n",
              "     width=\"24px\">\n",
              "    <g>\n",
              "        <path d=\"M19 3H5c-1.1 0-2 .9-2 2v14c0 1.1.9 2 2 2h14c1.1 0 2-.9 2-2V5c0-1.1-.9-2-2-2zM9 17H7v-7h2v7zm4 0h-2V7h2v10zm4 0h-2v-4h2v4z\"/>\n",
              "    </g>\n",
              "</svg>\n",
              "  </button>\n",
              "\n",
              "<style>\n",
              "  .colab-df-quickchart {\n",
              "      --bg-color: #E8F0FE;\n",
              "      --fill-color: #1967D2;\n",
              "      --hover-bg-color: #E2EBFA;\n",
              "      --hover-fill-color: #174EA6;\n",
              "      --disabled-fill-color: #AAA;\n",
              "      --disabled-bg-color: #DDD;\n",
              "  }\n",
              "\n",
              "  [theme=dark] .colab-df-quickchart {\n",
              "      --bg-color: #3B4455;\n",
              "      --fill-color: #D2E3FC;\n",
              "      --hover-bg-color: #434B5C;\n",
              "      --hover-fill-color: #FFFFFF;\n",
              "      --disabled-bg-color: #3B4455;\n",
              "      --disabled-fill-color: #666;\n",
              "  }\n",
              "\n",
              "  .colab-df-quickchart {\n",
              "    background-color: var(--bg-color);\n",
              "    border: none;\n",
              "    border-radius: 50%;\n",
              "    cursor: pointer;\n",
              "    display: none;\n",
              "    fill: var(--fill-color);\n",
              "    height: 32px;\n",
              "    padding: 0;\n",
              "    width: 32px;\n",
              "  }\n",
              "\n",
              "  .colab-df-quickchart:hover {\n",
              "    background-color: var(--hover-bg-color);\n",
              "    box-shadow: 0 1px 2px rgba(60, 64, 67, 0.3), 0 1px 3px 1px rgba(60, 64, 67, 0.15);\n",
              "    fill: var(--button-hover-fill-color);\n",
              "  }\n",
              "\n",
              "  .colab-df-quickchart-complete:disabled,\n",
              "  .colab-df-quickchart-complete:disabled:hover {\n",
              "    background-color: var(--disabled-bg-color);\n",
              "    fill: var(--disabled-fill-color);\n",
              "    box-shadow: none;\n",
              "  }\n",
              "\n",
              "  .colab-df-spinner {\n",
              "    border: 2px solid var(--fill-color);\n",
              "    border-color: transparent;\n",
              "    border-bottom-color: var(--fill-color);\n",
              "    animation:\n",
              "      spin 1s steps(1) infinite;\n",
              "  }\n",
              "\n",
              "  @keyframes spin {\n",
              "    0% {\n",
              "      border-color: transparent;\n",
              "      border-bottom-color: var(--fill-color);\n",
              "      border-left-color: var(--fill-color);\n",
              "    }\n",
              "    20% {\n",
              "      border-color: transparent;\n",
              "      border-left-color: var(--fill-color);\n",
              "      border-top-color: var(--fill-color);\n",
              "    }\n",
              "    30% {\n",
              "      border-color: transparent;\n",
              "      border-left-color: var(--fill-color);\n",
              "      border-top-color: var(--fill-color);\n",
              "      border-right-color: var(--fill-color);\n",
              "    }\n",
              "    40% {\n",
              "      border-color: transparent;\n",
              "      border-right-color: var(--fill-color);\n",
              "      border-top-color: var(--fill-color);\n",
              "    }\n",
              "    60% {\n",
              "      border-color: transparent;\n",
              "      border-right-color: var(--fill-color);\n",
              "    }\n",
              "    80% {\n",
              "      border-color: transparent;\n",
              "      border-right-color: var(--fill-color);\n",
              "      border-bottom-color: var(--fill-color);\n",
              "    }\n",
              "    90% {\n",
              "      border-color: transparent;\n",
              "      border-bottom-color: var(--fill-color);\n",
              "    }\n",
              "  }\n",
              "</style>\n",
              "\n",
              "  <script>\n",
              "    async function quickchart(key) {\n",
              "      const quickchartButtonEl =\n",
              "        document.querySelector('#' + key + ' button');\n",
              "      quickchartButtonEl.disabled = true;  // To prevent multiple clicks.\n",
              "      quickchartButtonEl.classList.add('colab-df-spinner');\n",
              "      try {\n",
              "        const charts = await google.colab.kernel.invokeFunction(\n",
              "            'suggestCharts', [key], {});\n",
              "      } catch (error) {\n",
              "        console.error('Error during call to suggestCharts:', error);\n",
              "      }\n",
              "      quickchartButtonEl.classList.remove('colab-df-spinner');\n",
              "      quickchartButtonEl.classList.add('colab-df-quickchart-complete');\n",
              "    }\n",
              "    (() => {\n",
              "      let quickchartButtonEl =\n",
              "        document.querySelector('#df-79969d19-5ea6-4ec8-9bc4-c661277a49e1 button');\n",
              "      quickchartButtonEl.style.display =\n",
              "        google.colab.kernel.accessAllowed ? 'block' : 'none';\n",
              "    })();\n",
              "  </script>\n",
              "</div>\n",
              "\n",
              "  <div id=\"id_a3abb598-77ca-41ea-9ab5-b6853739f9cb\">\n",
              "    <style>\n",
              "      .colab-df-generate {\n",
              "        background-color: #E8F0FE;\n",
              "        border: none;\n",
              "        border-radius: 50%;\n",
              "        cursor: pointer;\n",
              "        display: none;\n",
              "        fill: #1967D2;\n",
              "        height: 32px;\n",
              "        padding: 0 0 0 0;\n",
              "        width: 32px;\n",
              "      }\n",
              "\n",
              "      .colab-df-generate:hover {\n",
              "        background-color: #E2EBFA;\n",
              "        box-shadow: 0px 1px 2px rgba(60, 64, 67, 0.3), 0px 1px 3px 1px rgba(60, 64, 67, 0.15);\n",
              "        fill: #174EA6;\n",
              "      }\n",
              "\n",
              "      [theme=dark] .colab-df-generate {\n",
              "        background-color: #3B4455;\n",
              "        fill: #D2E3FC;\n",
              "      }\n",
              "\n",
              "      [theme=dark] .colab-df-generate:hover {\n",
              "        background-color: #434B5C;\n",
              "        box-shadow: 0px 1px 3px 1px rgba(0, 0, 0, 0.15);\n",
              "        filter: drop-shadow(0px 1px 2px rgba(0, 0, 0, 0.3));\n",
              "        fill: #FFFFFF;\n",
              "      }\n",
              "    </style>\n",
              "    <button class=\"colab-df-generate\" onclick=\"generateWithVariable('news')\"\n",
              "            title=\"Generate code using this dataframe.\"\n",
              "            style=\"display:none;\">\n",
              "\n",
              "  <svg xmlns=\"http://www.w3.org/2000/svg\" height=\"24px\"viewBox=\"0 0 24 24\"\n",
              "       width=\"24px\">\n",
              "    <path d=\"M7,19H8.4L18.45,9,17,7.55,7,17.6ZM5,21V16.75L18.45,3.32a2,2,0,0,1,2.83,0l1.4,1.43a1.91,1.91,0,0,1,.58,1.4,1.91,1.91,0,0,1-.58,1.4L9.25,21ZM18.45,9,17,7.55Zm-12,3A5.31,5.31,0,0,0,4.9,8.1,5.31,5.31,0,0,0,1,6.5,5.31,5.31,0,0,0,4.9,4.9,5.31,5.31,0,0,0,6.5,1,5.31,5.31,0,0,0,8.1,4.9,5.31,5.31,0,0,0,12,6.5,5.46,5.46,0,0,0,6.5,12Z\"/>\n",
              "  </svg>\n",
              "    </button>\n",
              "    <script>\n",
              "      (() => {\n",
              "      const buttonEl =\n",
              "        document.querySelector('#id_a3abb598-77ca-41ea-9ab5-b6853739f9cb button.colab-df-generate');\n",
              "      buttonEl.style.display =\n",
              "        google.colab.kernel.accessAllowed ? 'block' : 'none';\n",
              "\n",
              "      buttonEl.onclick = () => {\n",
              "        google.colab.notebook.generateWithVariable('news');\n",
              "      }\n",
              "      })();\n",
              "    </script>\n",
              "  </div>\n",
              "\n",
              "    </div>\n",
              "  </div>\n"
            ],
            "application/vnd.google.colaboratory.intrinsic+json": {
              "type": "dataframe",
              "variable_name": "news",
              "summary": "{\n  \"name\": \"news\",\n  \"rows\": 44083,\n  \"fields\": [\n    {\n      \"column\": \"Headline\",\n      \"properties\": {\n        \"dtype\": \"string\",\n        \"num_unique_values\": 43984,\n        \"samples\": [\n          \"BookMyShow app allows splitting ticket cost while booking\",\n          \"Varun likens 3 Idiots balatkar speech to Badri&#39;s molestation\",\n          \"RBI may revise repo rate after currency infusion: Report\"\n        ],\n        \"semantic_type\": \"\",\n        \"description\": \"\"\n      }\n    },\n    {\n      \"column\": \"Short\",\n      \"properties\": {\n        \"dtype\": \"string\",\n        \"num_unique_values\": 44018,\n        \"samples\": [\n          \"After Congress VP Rahul Gandhi used poetry to attack PM Narendra Modi, #RahulGandhiPoetry was an Indian Twitter trend on Saturday. Users reacted with tweets like, &#34;Rahul Gandhi wanted to do a Atal Bihari Vajpayee ended up being a Kumar Vishwas. Be Original,&#34; and &#34;Log toot jaate hain ek ghar banaane me Mujhe sharam nahi aati pappu kehlaane me... #RahulGandhiPoetry&#34;.\",\n          \"The CBI has registered a case in connection with the alleged abduction of Rahul Sachan, a crucial prosecution witness in the rape cases against self-styled godman Asaram Bapu. Sachan was given police protection but he went missing last year from his residence in Lucknow. Sachan had claimed to be Asaram&#39;s personal assistant from 2009 to 2013.\",\n          \"The I-T department has put nearly half of the 18 lakh people under its scanner for suspicious bank deposits in the \\u2018doubtful\\u2019 category, according to reports. People had made suspicious deposits of over \\u20b95 lakh in the 50-day window post demonetisation. However, action against them will follow only after the new tax amnesty scheme ends on March 31.\"\n        ],\n        \"semantic_type\": \"\",\n        \"description\": \"\"\n      }\n    }\n  ]\n}"
            }
          },
          "metadata": {},
          "execution_count": 13
        }
      ],
      "source": [
        "df.drop(['Source ', 'Time ', 'Publish Date'], axis=1, inplace=True)\n",
        "from sklearn.model_selection import train_test_split\n",
        "\n",
        "news, test = train_test_split(df, test_size=0.2, random_state=42)\n",
        "news"
      ]
    },
    {
      "cell_type": "markdown",
      "id": "bd6beba5",
      "metadata": {
        "id": "bd6beba5",
        "papermill": {
          "duration": 0.012239,
          "end_time": "2024-05-18T16:34:57.436733",
          "exception": false,
          "start_time": "2024-05-18T16:34:57.424494",
          "status": "completed"
        },
        "tags": []
      },
      "source": [
        "## Preprocessing"
      ]
    },
    {
      "cell_type": "code",
      "execution_count": 14,
      "id": "d9dccd81",
      "metadata": {
        "execution": {
          "iopub.execute_input": "2024-05-18T16:34:57.463128Z",
          "iopub.status.busy": "2024-05-18T16:34:57.462631Z",
          "iopub.status.idle": "2024-05-18T16:34:57.492412Z",
          "shell.execute_reply": "2024-05-18T16:34:57.491672Z"
        },
        "id": "d9dccd81",
        "papermill": {
          "duration": 0.045595,
          "end_time": "2024-05-18T16:34:57.494445",
          "exception": false,
          "start_time": "2024-05-18T16:34:57.448850",
          "status": "completed"
        },
        "tags": []
      },
      "outputs": [],
      "source": [
        "document = news['Short']\n",
        "summary = news['Headline']\n",
        "summary = summary.apply(lambda x: '<go> ' + x + ' <stop>')"
      ]
    },
    {
      "cell_type": "markdown",
      "id": "b95591df",
      "metadata": {
        "id": "b95591df",
        "papermill": {
          "duration": 0.012483,
          "end_time": "2024-05-18T16:34:57.520150",
          "exception": false,
          "start_time": "2024-05-18T16:34:57.507667",
          "status": "completed"
        },
        "tags": []
      },
      "source": [
        "## Tokenizing the texts into integer tokens"
      ]
    },
    {
      "cell_type": "code",
      "execution_count": 15,
      "id": "d58538c7",
      "metadata": {
        "execution": {
          "iopub.execute_input": "2024-05-18T16:34:57.548074Z",
          "iopub.status.busy": "2024-05-18T16:34:57.547414Z",
          "iopub.status.idle": "2024-05-18T16:34:57.551813Z",
          "shell.execute_reply": "2024-05-18T16:34:57.550931Z"
        },
        "id": "d58538c7",
        "papermill": {
          "duration": 0.019662,
          "end_time": "2024-05-18T16:34:57.553652",
          "exception": false,
          "start_time": "2024-05-18T16:34:57.533990",
          "status": "completed"
        },
        "tags": []
      },
      "outputs": [],
      "source": [
        "# Định nghĩa token không xác định (out of vocabulary)\n",
        "oov_token = '<unk>'\n",
        "# Sử dụng tokenizer của TorchText\n",
        "document_tokenizer = get_tokenizer(\"basic_english\")\n",
        "summary_tokenizer = get_tokenizer(\"basic_english\")\n",
        "\n"
      ]
    },
    {
      "cell_type": "code",
      "execution_count": 16,
      "id": "ad47a349",
      "metadata": {
        "execution": {
          "iopub.execute_input": "2024-05-18T16:34:57.579852Z",
          "iopub.status.busy": "2024-05-18T16:34:57.579339Z",
          "iopub.status.idle": "2024-05-18T16:35:09.573071Z",
          "shell.execute_reply": "2024-05-18T16:35:09.572276Z"
        },
        "id": "ad47a349",
        "papermill": {
          "duration": 12.008978,
          "end_time": "2024-05-18T16:35:09.575359",
          "exception": false,
          "start_time": "2024-05-18T16:34:57.566381",
          "status": "completed"
        },
        "tags": []
      },
      "outputs": [],
      "source": [
        "\n",
        "# Tạo vocab từ iterator của các token\n",
        "document_vocab = build_vocab_from_iterator(map(document_tokenizer, document), specials=[oov_token])\n",
        "summary_vocab = build_vocab_from_iterator(map(summary_tokenizer, summary), specials=[oov_token])\n",
        "\n",
        "# Chuyển đổi văn bản thành các token số nguyên\n",
        "inputs = [[document_vocab[token] for token in document_tokenizer(text)] for text in document]\n",
        "targets = [[summary_vocab[token] for token in summary_tokenizer(text)] for text in summary]\n",
        "\n",
        "# Kiểm tra\n",
        "# Chuyển sequences của các token số nguyên thành văn bản\n",
        "def sequences_to_texts(sequences, vocab):\n",
        "    texts = []\n",
        "    itos = vocab.get_itos()\n",
        "    len_vocab = len(itos)\n",
        "    for seq in sequences:\n",
        "        text = ' '.join([itos[token] for token in seq if 0 <= token < len_vocab])\n",
        "        texts.append(text)\n",
        "    return texts\n",
        "\n",
        "# Chuyển văn bản thành sequences của các token số nguyên\n",
        "def texts_to_sequences(texts, vocab):\n",
        "    sequences = []\n",
        "    itos = vocab.get_itos()\n",
        "    stoi = vocab.get_stoi()\n",
        "    for text in texts:\n",
        "        tokens = text.lower().split()  # Chuyển văn bản thành lowercase và tokenize\n",
        "        seq = [stoi[token] for token in tokens if token in stoi]  # Chỉ chọn các token trong vocab\n",
        "        sequences.append(seq)\n",
        "    return sequences\n"
      ]
    },
    {
      "cell_type": "code",
      "execution_count": 17,
      "id": "f7f2155b",
      "metadata": {
        "colab": {
          "base_uri": "https://localhost:8080/"
        },
        "execution": {
          "iopub.execute_input": "2024-05-18T16:35:09.601841Z",
          "iopub.status.busy": "2024-05-18T16:35:09.601532Z",
          "iopub.status.idle": "2024-05-18T16:35:09.713886Z",
          "shell.execute_reply": "2024-05-18T16:35:09.712677Z"
        },
        "id": "f7f2155b",
        "outputId": "9afe18b3-ecfe-445d-bec2-09c8e4a1da99",
        "papermill": {
          "duration": 0.127748,
          "end_time": "2024-05-18T16:35:09.715814",
          "exception": false,
          "start_time": "2024-05-18T16:35:09.588066",
          "status": "completed"
        },
        "tags": []
      },
      "outputs": [
        {
          "output_type": "stream",
          "name": "stdout",
          "text": [
            "[[77848, 7, 4563, 341]]\n",
            "['nieto said nahi']\n"
          ]
        }
      ],
      "source": [
        "texts = [\"ou a le place\"]\n",
        "sequences = texts_to_sequences(texts, document_vocab)\n",
        "print(sequences)\n",
        "\n",
        "sequence = [[11889, 16, 7380]]\n",
        "texts = sequences_to_texts(sequence, document_vocab)\n",
        "print(texts)\n"
      ]
    },
    {
      "cell_type": "code",
      "execution_count": 18,
      "id": "8219be12",
      "metadata": {
        "colab": {
          "base_uri": "https://localhost:8080/"
        },
        "execution": {
          "iopub.execute_input": "2024-05-18T16:35:09.742376Z",
          "iopub.status.busy": "2024-05-18T16:35:09.742036Z",
          "iopub.status.idle": "2024-05-18T16:35:09.749795Z",
          "shell.execute_reply": "2024-05-18T16:35:09.748978Z"
        },
        "id": "8219be12",
        "outputId": "d9a838bd-7f8b-4de8-d61a-afbd1f067ce9",
        "papermill": {
          "duration": 0.022986,
          "end_time": "2024-05-18T16:35:09.751648",
          "exception": false,
          "start_time": "2024-05-18T16:35:09.728662",
          "status": "completed"
        },
        "tags": []
      },
      "outputs": [
        {
          "output_type": "execute_result",
          "data": {
            "text/plain": [
              "(94419, 34137)"
            ]
          },
          "metadata": {},
          "execution_count": 18
        }
      ],
      "source": [
        "encoder_vocab_size = len(document_vocab) + 1\n",
        "decoder_vocab_size = len(summary_vocab) + 1\n",
        "\n",
        "# vocab_size\n",
        "encoder_vocab_size, decoder_vocab_size"
      ]
    },
    {
      "cell_type": "code",
      "execution_count": 19,
      "id": "50487304",
      "metadata": {
        "execution": {
          "iopub.execute_input": "2024-05-18T16:35:09.802842Z",
          "iopub.status.busy": "2024-05-18T16:35:09.802562Z",
          "iopub.status.idle": "2024-05-18T16:35:09.878743Z",
          "shell.execute_reply": "2024-05-18T16:35:09.877888Z"
        },
        "id": "50487304",
        "papermill": {
          "duration": 0.091279,
          "end_time": "2024-05-18T16:35:09.880660",
          "exception": false,
          "start_time": "2024-05-18T16:35:09.789381",
          "status": "completed"
        },
        "tags": []
      },
      "outputs": [],
      "source": [
        "document_lengths = pd.Series([len(x) for x in document])\n",
        "summary_lengths = pd.Series([len(x) for x in summary])"
      ]
    },
    {
      "cell_type": "code",
      "execution_count": 20,
      "id": "14cfee0b",
      "metadata": {
        "execution": {
          "iopub.execute_input": "2024-05-18T16:35:09.991740Z",
          "iopub.status.busy": "2024-05-18T16:35:09.991253Z",
          "iopub.status.idle": "2024-05-18T16:35:09.995036Z",
          "shell.execute_reply": "2024-05-18T16:35:09.994242Z"
        },
        "id": "14cfee0b",
        "papermill": {
          "duration": 0.019503,
          "end_time": "2024-05-18T16:35:09.996932",
          "exception": false,
          "start_time": "2024-05-18T16:35:09.977429",
          "status": "completed"
        },
        "tags": []
      },
      "outputs": [],
      "source": [
        "# maxlen\n",
        "# taking values > and round figured to 75th percentile\n",
        "# at the same time not leaving high variance\n",
        "encoder_maxlen = 400\n",
        "decoder_maxlen = 75"
      ]
    },
    {
      "cell_type": "markdown",
      "id": "f8785dfa",
      "metadata": {
        "id": "f8785dfa",
        "papermill": {
          "duration": 0.013034,
          "end_time": "2024-05-18T16:35:10.023221",
          "exception": false,
          "start_time": "2024-05-18T16:35:10.010187",
          "status": "completed"
        },
        "tags": []
      },
      "source": [
        "## Padding/Truncating sequences for identical sequence lengths\n"
      ]
    },
    {
      "cell_type": "code",
      "execution_count": 21,
      "id": "f79b3f06",
      "metadata": {
        "execution": {
          "iopub.execute_input": "2024-05-18T16:35:10.050776Z",
          "iopub.status.busy": "2024-05-18T16:35:10.050282Z",
          "iopub.status.idle": "2024-05-18T16:35:12.798644Z",
          "shell.execute_reply": "2024-05-18T16:35:12.797841Z"
        },
        "id": "f79b3f06",
        "papermill": {
          "duration": 2.764273,
          "end_time": "2024-05-18T16:35:12.800793",
          "exception": false,
          "start_time": "2024-05-18T16:35:10.036520",
          "status": "completed"
        },
        "tags": []
      },
      "outputs": [],
      "source": [
        "\n",
        "# Chuyển đổi inputs\n",
        "inputs_tensor = [torch.tensor(input_seq) for input_seq in inputs]\n",
        "inputs = pad_sequence(inputs_tensor, batch_first=True, padding_value=0)[:, :encoder_maxlen]\n",
        "# Padding tất cả các tensor trong inputs_tensor để đảm bảo tất cả các chuỗi có cùng độ dài. Cắt các chuỗi nếu chúng dài hơn encoder_maxlen\n",
        "\n",
        "# Chuyển đổi targets\n",
        "targets_tensor = [torch.tensor(target_seq) for target_seq in targets]\n",
        "targets = pad_sequence(targets_tensor, batch_first=True, padding_value=0)[:, :decoder_maxlen]"
      ]
    },
    {
      "cell_type": "code",
      "execution_count": 22,
      "id": "29204b62",
      "metadata": {
        "execution": {
          "iopub.execute_input": "2024-05-18T16:35:12.855146Z",
          "iopub.status.busy": "2024-05-18T16:35:12.854581Z",
          "iopub.status.idle": "2024-05-18T16:35:12.858611Z",
          "shell.execute_reply": "2024-05-18T16:35:12.857770Z"
        },
        "id": "29204b62",
        "papermill": {
          "duration": 0.019925,
          "end_time": "2024-05-18T16:35:12.860526",
          "exception": false,
          "start_time": "2024-05-18T16:35:12.840601",
          "status": "completed"
        },
        "tags": []
      },
      "outputs": [],
      "source": [
        "BATCH_SIZE = 64"
      ]
    },
    {
      "cell_type": "code",
      "execution_count": 23,
      "id": "81ecd06a",
      "metadata": {
        "colab": {
          "base_uri": "https://localhost:8080/"
        },
        "execution": {
          "iopub.execute_input": "2024-05-18T16:35:12.888078Z",
          "iopub.status.busy": "2024-05-18T16:35:12.887825Z",
          "iopub.status.idle": "2024-05-18T16:35:13.208735Z",
          "shell.execute_reply": "2024-05-18T16:35:13.207818Z"
        },
        "id": "81ecd06a",
        "outputId": "29a7de0d-746a-4b80-919e-a5c21c326e06",
        "papermill": {
          "duration": 0.337022,
          "end_time": "2024-05-18T16:35:13.210864",
          "exception": false,
          "start_time": "2024-05-18T16:35:12.873842",
          "status": "completed"
        },
        "tags": []
      },
      "outputs": [
        {
          "output_type": "stream",
          "name": "stderr",
          "text": [
            "<ipython-input-23-d270f11041c7>:1: UserWarning: To copy construct from a tensor, it is recommended to use sourceTensor.clone().detach() or sourceTensor.clone().detach().requires_grad_(True), rather than torch.tensor(sourceTensor).\n",
            "  inputs_tensor = torch.tensor(inputs, dtype=torch.long).to(device)\n",
            "<ipython-input-23-d270f11041c7>:2: UserWarning: To copy construct from a tensor, it is recommended to use sourceTensor.clone().detach() or sourceTensor.clone().detach().requires_grad_(True), rather than torch.tensor(sourceTensor).\n",
            "  targets_tensor = torch.tensor(targets, dtype=torch.long).to(device)\n"
          ]
        }
      ],
      "source": [
        "inputs_tensor = torch.tensor(inputs, dtype=torch.long).to(device)\n",
        "targets_tensor = torch.tensor(targets, dtype=torch.long).to(device)\n",
        "\n",
        "# Tạo dataset và dataloader\n",
        "dataset = TensorDataset(inputs_tensor, targets_tensor)\n",
        "dataloader = DataLoader(dataset, shuffle=True, batch_size=BATCH_SIZE)"
      ]
    },
    {
      "cell_type": "markdown",
      "id": "a0eb3554",
      "metadata": {
        "id": "a0eb3554",
        "papermill": {
          "duration": 0.014075,
          "end_time": "2024-05-18T16:35:13.238810",
          "exception": false,
          "start_time": "2024-05-18T16:35:13.224735",
          "status": "completed"
        },
        "tags": []
      },
      "source": [
        "## Positional Encoding"
      ]
    },
    {
      "cell_type": "code",
      "execution_count": 24,
      "id": "ba5a6b2f",
      "metadata": {
        "execution": {
          "iopub.execute_input": "2024-05-18T16:35:13.267919Z",
          "iopub.status.busy": "2024-05-18T16:35:13.267603Z",
          "iopub.status.idle": "2024-05-18T16:35:13.274801Z",
          "shell.execute_reply": "2024-05-18T16:35:13.273879Z"
        },
        "id": "ba5a6b2f",
        "papermill": {
          "duration": 0.024137,
          "end_time": "2024-05-18T16:35:13.276831",
          "exception": false,
          "start_time": "2024-05-18T16:35:13.252694",
          "status": "completed"
        },
        "tags": []
      },
      "outputs": [],
      "source": [
        "def get_angles(position, i, d_model):\n",
        "    angle_rates = 1 / torch.pow(10000, (2 * (i // 2)) / np.float32(d_model))\n",
        "    return position * angle_rates.to(device)\n",
        "\n",
        "#Positional encoding được sử dụng để thêm thông tin vị trí vào các vector embedding trong mô hình Transformer\n",
        "\n",
        "def positional_encoding(position, d_model):\n",
        "    angle_rads = get_angles(\n",
        "        torch.arange(position).unsqueeze(1).to(device),\n",
        "        torch.arange(d_model).unsqueeze(0).to(device),\n",
        "        d_model\n",
        "    )\n",
        "    # apply sin to even indices in the array; 2i\n",
        "    angle_rads[:, 0::2] = torch.sin(angle_rads[:, 0::2])\n",
        "\n",
        "    # apply cos to odd indices in the array; 2i+1\n",
        "    angle_rads[:, 1::2] = torch.cos(angle_rads[:, 1::2])\n",
        "\n",
        "    pos_encoding = angle_rads.unsqueeze(0)\n",
        "    return pos_encoding\n"
      ]
    },
    {
      "cell_type": "markdown",
      "id": "7438b131",
      "metadata": {
        "id": "7438b131",
        "papermill": {
          "duration": 0.014679,
          "end_time": "2024-05-18T16:35:13.306070",
          "exception": false,
          "start_time": "2024-05-18T16:35:13.291391",
          "status": "completed"
        },
        "tags": []
      },
      "source": [
        "## Masking\n",
        "      Padding mask for masking \"pad\" sequences\n",
        "      Lookahead mask for masking future words from contributing in prediction of current words in self attention"
      ]
    },
    {
      "cell_type": "code",
      "execution_count": 25,
      "id": "be79f2f9",
      "metadata": {
        "execution": {
          "iopub.execute_input": "2024-05-18T16:35:13.336998Z",
          "iopub.status.busy": "2024-05-18T16:35:13.336417Z",
          "iopub.status.idle": "2024-05-18T16:35:13.343945Z",
          "shell.execute_reply": "2024-05-18T16:35:13.342966Z"
        },
        "id": "be79f2f9",
        "papermill": {
          "duration": 0.025101,
          "end_time": "2024-05-18T16:35:13.345974",
          "exception": false,
          "start_time": "2024-05-18T16:35:13.320873",
          "status": "completed"
        },
        "tags": []
      },
      "outputs": [],
      "source": [
        "#Tạo mask để che giấu các vị trí của các token \"pad\" trong chuỗi đầu vào.\n",
        "def create_padding_mask(seq):\n",
        "    mask = (seq == 0)  # Tạo mask với giá trị True ở các vị trí có giá trị 0 trong seq\n",
        "    mask = mask.unsqueeze(1).unsqueeze(2)   # Mở rộng mask để có cùng số chiều với tensor đầu vào\n",
        "    return mask.to(device)\n",
        "#Tạo mask để che giấu các từ trong tương lai khi dự đoán từ hiện tại trong quá trình self-attention của mô hình Transformer.\n",
        "def create_look_ahead_mask(size):\n",
        "    mask = torch.triu(torch.ones(size, size), diagonal=1).to(device)\n",
        "    return mask\n",
        "#Tạo và kết hợp các loại mask để sử dụng trong quá trình huấn luyện và dự đoán của mô hình Transformer.\n",
        "def create_masks(inp, tar):\n",
        "    #Masking các token \"pad\" trong chuỗi đầu vào và chuỗi đầu ra của mô hình.\n",
        "    enc_padding_mask = create_padding_mask(inp)\n",
        "    dec_padding_mask = create_padding_mask(inp)\n",
        "\n",
        "    look_ahead_mask = create_look_ahead_mask(tar.size(1))\n",
        "    dec_target_padding_mask = create_padding_mask(tar)\n",
        "    combined_mask = torch.maximum(dec_target_padding_mask, look_ahead_mask)\n",
        "\n",
        "    return enc_padding_mask, combined_mask, dec_padding_mask\n"
      ]
    },
    {
      "cell_type": "markdown",
      "id": "d63af48a",
      "metadata": {
        "id": "d63af48a",
        "papermill": {
          "duration": 0.055111,
          "end_time": "2024-05-18T16:35:13.416409",
          "exception": false,
          "start_time": "2024-05-18T16:35:13.361298",
          "status": "completed"
        },
        "tags": []
      },
      "source": [
        "## Scaled Dot Product && Multi-Headed Attention"
      ]
    },
    {
      "cell_type": "code",
      "execution_count": 26,
      "id": "df4f9bbd",
      "metadata": {
        "execution": {
          "iopub.execute_input": "2024-05-18T16:35:13.445692Z",
          "iopub.status.busy": "2024-05-18T16:35:13.445372Z",
          "iopub.status.idle": "2024-05-18T16:35:13.452415Z",
          "shell.execute_reply": "2024-05-18T16:35:13.451584Z"
        },
        "id": "df4f9bbd",
        "papermill": {
          "duration": 0.023472,
          "end_time": "2024-05-18T16:35:13.454245",
          "exception": false,
          "start_time": "2024-05-18T16:35:13.430773",
          "status": "completed"
        },
        "tags": []
      },
      "outputs": [],
      "source": [
        "import torch\n",
        "import torch.nn as nn\n",
        "import numpy as np\n",
        "#scaled_dot_product_attention được sử dụng để tính toán các attention weights dựa trên mối quan hệ tương đồng (similarity) giữa các cặp từ (query và key),\\\n",
        "# và sau đó sử dụng các weights này để lấy trung bình có trọng số của các giá trị (value). Quá trình này là trung tâm của cơ chế self-attention trong Transformer,\\\n",
        "# cho phép mô hình tập trung vào các từ quan trọng trong chuỗi đầu vào\n",
        "def scaled_dot_product_attention(q, k, v, mask=None):\n",
        "    q, k, v = q.to(device), k.to(device), v.to(device)\n",
        "    matmul_qk = torch.matmul(q, k.transpose(-2, -1))\n",
        "    dk = k.shape[-1]\n",
        "    scaled_attention_logits = matmul_qk / torch.sqrt(torch.tensor(dk, dtype=torch.float32))\n",
        "\n",
        "    if mask is not None:\n",
        "        mask = mask.squeeze(0)\n",
        "        scaled_attention_logits += (mask * -1e9)\n",
        "\n",
        "    attention_weights = nn.functional.softmax(scaled_attention_logits, dim=-1)\n",
        "    output = torch.matmul(attention_weights, v)\n",
        "\n",
        "    return output, attention_weights\n"
      ]
    },
    {
      "cell_type": "code",
      "execution_count": 27,
      "id": "043c960d",
      "metadata": {
        "execution": {
          "iopub.execute_input": "2024-05-18T16:35:13.483134Z",
          "iopub.status.busy": "2024-05-18T16:35:13.482454Z",
          "iopub.status.idle": "2024-05-18T16:35:13.492430Z",
          "shell.execute_reply": "2024-05-18T16:35:13.491692Z"
        },
        "id": "043c960d",
        "papermill": {
          "duration": 0.02636,
          "end_time": "2024-05-18T16:35:13.494278",
          "exception": false,
          "start_time": "2024-05-18T16:35:13.467918",
          "status": "completed"
        },
        "tags": []
      },
      "outputs": [],
      "source": [
        "class MultiHeadAttention(nn.Module):\n",
        "    def __init__(self, d_model, num_heads):\n",
        "        super(MultiHeadAttention, self).__init__()\n",
        "        self.num_heads = num_heads\n",
        "        self.d_model = d_model\n",
        "\n",
        "        assert d_model % self.num_heads == 0\n",
        "\n",
        "        self.depth = d_model // self.num_heads\n",
        "\n",
        "        self.wq = nn.Linear(d_model, d_model).to(device)\n",
        "        self.wk = nn.Linear(d_model, d_model).to(device)\n",
        "        self.wv = nn.Linear(d_model, d_model).to(device)\n",
        "\n",
        "        self.dense = nn.Linear(d_model, d_model).to(device)\n",
        "\n",
        "    def split_heads(self, x, batch_size):\n",
        "        x = x.view(batch_size, -1, self.num_heads, self.depth)\n",
        "        return x.permute(0, 2, 1, 3)\n",
        "\n",
        "    def forward(self, v, k, q, mask=None):\n",
        "        batch_size = q.size(0)\n",
        "\n",
        "        q = self.wq(q)\n",
        "        k = self.wk(k)\n",
        "        v = self.wv(v)\n",
        "\n",
        "        q = self.split_heads(q, batch_size)\n",
        "        k = self.split_heads(k, batch_size)\n",
        "        v = self.split_heads(v, batch_size)\n",
        "\n",
        "        scaled_attention, attention_weights = scaled_dot_product_attention(\n",
        "            q, k, v, mask)\n",
        "\n",
        "        scaled_attention = scaled_attention.permute(0, 2, 1, 3)\n",
        "\n",
        "        concat_attention = scaled_attention.contiguous().view(batch_size, -1, self.d_model)\n",
        "        output = self.dense(concat_attention)\n",
        "\n",
        "        return output, attention_weights"
      ]
    },
    {
      "cell_type": "markdown",
      "id": "08892279",
      "metadata": {
        "id": "08892279",
        "papermill": {
          "duration": 0.013753,
          "end_time": "2024-05-18T16:35:13.521627",
          "exception": false,
          "start_time": "2024-05-18T16:35:13.507874",
          "status": "completed"
        },
        "tags": []
      },
      "source": [
        "## Feed Forward Network"
      ]
    },
    {
      "cell_type": "code",
      "execution_count": 28,
      "id": "dbb71104",
      "metadata": {
        "execution": {
          "iopub.execute_input": "2024-05-18T16:35:13.550138Z",
          "iopub.status.busy": "2024-05-18T16:35:13.549878Z",
          "iopub.status.idle": "2024-05-18T16:35:13.554280Z",
          "shell.execute_reply": "2024-05-18T16:35:13.553451Z"
        },
        "id": "dbb71104",
        "papermill": {
          "duration": 0.021,
          "end_time": "2024-05-18T16:35:13.556274",
          "exception": false,
          "start_time": "2024-05-18T16:35:13.535274",
          "status": "completed"
        },
        "tags": []
      },
      "outputs": [],
      "source": [
        "def point_wise_feed_forward_network(d_model, dff):\n",
        "    return nn.Sequential(\n",
        "        nn.Linear(d_model, dff).to(device),\n",
        "        nn.ReLU(),\n",
        "        nn.Linear(dff, d_model).to(device)\n",
        "    )"
      ]
    },
    {
      "cell_type": "markdown",
      "id": "e6dd664e",
      "metadata": {
        "id": "e6dd664e",
        "papermill": {
          "duration": 0.014506,
          "end_time": "2024-05-18T16:35:13.584743",
          "exception": false,
          "start_time": "2024-05-18T16:35:13.570237",
          "status": "completed"
        },
        "tags": []
      },
      "source": [
        "## ENCODER"
      ]
    },
    {
      "cell_type": "code",
      "execution_count": 29,
      "id": "bc0195b9",
      "metadata": {
        "execution": {
          "iopub.execute_input": "2024-05-18T16:35:13.613032Z",
          "iopub.status.busy": "2024-05-18T16:35:13.612763Z",
          "iopub.status.idle": "2024-05-18T16:35:13.625533Z",
          "shell.execute_reply": "2024-05-18T16:35:13.624853Z"
        },
        "id": "bc0195b9",
        "papermill": {
          "duration": 0.029022,
          "end_time": "2024-05-18T16:35:13.627429",
          "exception": false,
          "start_time": "2024-05-18T16:35:13.598407",
          "status": "completed"
        },
        "tags": []
      },
      "outputs": [],
      "source": [
        "class EncoderLayer(nn.Module):\n",
        "    def __init__(self, d_model, num_heads, dff, rate=0.1):\n",
        "        super(EncoderLayer, self).__init__()\n",
        "\n",
        "        self.mha = MultiHeadAttention(d_model, num_heads).to(device)\n",
        "        self.ffn = point_wise_feed_forward_network(d_model, dff).to(device)\n",
        "\n",
        "        self.layernorm1 = nn.LayerNorm(d_model, eps=1e-6).to(device)\n",
        "        self.layernorm2 = nn.LayerNorm(d_model, eps=1e-6).to(device)\n",
        "\n",
        "        self.dropout1 = nn.Dropout(rate)\n",
        "        self.dropout2 = nn.Dropout(rate)\n",
        "\n",
        "    def forward(self, x, mask):\n",
        "        attn_output, _ = self.mha(x, x, x, mask)\n",
        "        attn_output = self.dropout1(attn_output)\n",
        "        out1 = self.layernorm1(x + attn_output)\n",
        "\n",
        "        ffn_output = self.ffn(out1)\n",
        "        ffn_output = self.dropout2(ffn_output)\n",
        "        out2 = self.layernorm2(out1 + ffn_output)\n",
        "\n",
        "        return out2\n",
        "\n",
        "class Encoder(nn.Module):\n",
        "    def __init__(self, num_layers, d_model, num_heads, dff, input_vocab_size, maximum_position_encoding, rate=0.1):\n",
        "        super(Encoder, self).__init__()\n",
        "\n",
        "        self.d_model = d_model\n",
        "        self.num_layers = num_layers\n",
        "\n",
        "        self.embedding = nn.Embedding(input_vocab_size, d_model).to(device)\n",
        "        self.pos_encoding = positional_encoding(maximum_position_encoding, self.d_model).to(device)\n",
        "\n",
        "        self.enc_layers = nn.ModuleList([EncoderLayer(d_model, num_heads, dff, rate) for _ in range(num_layers)])\n",
        "\n",
        "        self.dropout = nn.Dropout(rate)\n",
        "\n",
        "    def forward(self, x, mask):\n",
        "        seq_len = x.shape[1]\n",
        "\n",
        "        x = self.embedding(x).to(device)\n",
        "        x *= torch.sqrt(torch.tensor(self.d_model).float()).to(device)\n",
        "        x += self.pos_encoding[:, :seq_len, :].to(device)\n",
        "\n",
        "        x = self.dropout(x)\n",
        "\n",
        "        for i in range(self.num_layers):\n",
        "           x = self.enc_layers[i](x, mask)\n",
        "\n",
        "        return x"
      ]
    },
    {
      "cell_type": "markdown",
      "id": "53b5827c",
      "metadata": {
        "id": "53b5827c",
        "papermill": {
          "duration": 0.013706,
          "end_time": "2024-05-18T16:35:13.654918",
          "exception": false,
          "start_time": "2024-05-18T16:35:13.641212",
          "status": "completed"
        },
        "tags": []
      },
      "source": [
        "## DECODER"
      ]
    },
    {
      "cell_type": "code",
      "execution_count": 30,
      "id": "b5ee0704",
      "metadata": {
        "execution": {
          "iopub.execute_input": "2024-05-18T16:35:13.684295Z",
          "iopub.status.busy": "2024-05-18T16:35:13.683777Z",
          "iopub.status.idle": "2024-05-18T16:35:13.698865Z",
          "shell.execute_reply": "2024-05-18T16:35:13.698046Z"
        },
        "id": "b5ee0704",
        "papermill": {
          "duration": 0.032183,
          "end_time": "2024-05-18T16:35:13.700770",
          "exception": false,
          "start_time": "2024-05-18T16:35:13.668587",
          "status": "completed"
        },
        "tags": []
      },
      "outputs": [],
      "source": [
        "class DecoderLayer(nn.Module):\n",
        "    def __init__(self, d_model, num_heads, dff, rate=0.1):\n",
        "        super(DecoderLayer, self).__init__()\n",
        "\n",
        "        self.mha1 = MultiHeadAttention(d_model, num_heads).to(device)\n",
        "        self.mha2 = MultiHeadAttention(d_model, num_heads).to(device)\n",
        "\n",
        "        self.ffn = point_wise_feed_forward_network(d_model, dff).to(device)\n",
        "\n",
        "        self.layernorm1 = nn.LayerNorm(d_model, eps=1e-6).to(device)\n",
        "        self.layernorm2 = nn.LayerNorm(d_model, eps=1e-6).to(device)\n",
        "        self.layernorm3 = nn.LayerNorm(d_model, eps=1e-6).to(device)\n",
        "\n",
        "        self.dropout1 = nn.Dropout(rate)\n",
        "        self.dropout2 = nn.Dropout(rate)\n",
        "        self.dropout3 = nn.Dropout(rate)\n",
        "\n",
        "    def forward(self, x, enc_output, look_ahead_mask, padding_mask):\n",
        "        attn1, attn_weights_block1 = self.mha1(x, x, x, look_ahead_mask)\n",
        "        attn1 = self.dropout1(attn1)\n",
        "        out1 = self.layernorm1(attn1 + x)\n",
        "\n",
        "        attn2, attn_weights_block2 = self.mha2(enc_output, enc_output, out1, padding_mask)\n",
        "        attn2 = self.dropout2(attn2)\n",
        "        out2 = self.layernorm2(attn2 + out1)\n",
        "\n",
        "        ffn_output = self.ffn(out2)\n",
        "        ffn_output = self.dropout3(ffn_output )\n",
        "        out3 = self.layernorm3(ffn_output + out2)\n",
        "\n",
        "        return out3, attn_weights_block1, attn_weights_block2\n",
        "\n",
        "class Decoder(nn.Module):\n",
        "    def __init__(self, num_layers, d_model, num_heads, dff, target_vocab_size, maximum_position_encoding, rate=0.1):\n",
        "        super(Decoder, self).__init__()\n",
        "\n",
        "        self.d_model = d_model\n",
        "        self.num_layers = num_layers\n",
        "\n",
        "        self.embedding = nn.Embedding(target_vocab_size, d_model).to(device)\n",
        "        self.pos_encoding = positional_encoding(maximum_position_encoding, self.d_model).to(device)\n",
        "\n",
        "        self.dec_layers = nn.ModuleList([DecoderLayer(d_model, num_heads, dff, rate) for _ in range(num_layers)])\n",
        "        self.dropout = nn.Dropout(rate)\n",
        "\n",
        "    def forward(self, x, enc_output, look_ahead_mask, padding_mask):\n",
        "        seq_len = x.shape[1]\n",
        "        attention_weights = {}\n",
        "\n",
        "        x = self.embedding(x)\n",
        "        x *= torch.sqrt(torch.tensor(self.d_model).float())\n",
        "        x += self.pos_encoding[:, :seq_len, :]\n",
        "\n",
        "        x = self.dropout(x)\n",
        "\n",
        "        for i in range(self.num_layers):\n",
        "            x, block1, block2 = self.dec_layers[i](x, enc_output, look_ahead_mask, padding_mask)\n",
        "\n",
        "            attention_weights['decoder_layer{}_block1'.format(i+1)] = block1\n",
        "            attention_weights['decoder_layer{}_block2'.format(i+1)] = block2\n",
        "\n",
        "        return x, attention_weights"
      ]
    },
    {
      "cell_type": "markdown",
      "id": "95eb89ac",
      "metadata": {
        "id": "95eb89ac",
        "papermill": {
          "duration": 0.013564,
          "end_time": "2024-05-18T16:35:13.728251",
          "exception": false,
          "start_time": "2024-05-18T16:35:13.714687",
          "status": "completed"
        },
        "tags": []
      },
      "source": [
        "## TRANSFORMER"
      ]
    },
    {
      "cell_type": "code",
      "execution_count": 31,
      "id": "a67d8d4b",
      "metadata": {
        "execution": {
          "iopub.execute_input": "2024-05-18T16:35:13.756976Z",
          "iopub.status.busy": "2024-05-18T16:35:13.756686Z",
          "iopub.status.idle": "2024-05-18T16:35:13.764011Z",
          "shell.execute_reply": "2024-05-18T16:35:13.763170Z"
        },
        "id": "a67d8d4b",
        "papermill": {
          "duration": 0.023939,
          "end_time": "2024-05-18T16:35:13.765885",
          "exception": false,
          "start_time": "2024-05-18T16:35:13.741946",
          "status": "completed"
        },
        "tags": []
      },
      "outputs": [],
      "source": [
        "class Transformer(nn.Module):\n",
        "    def __init__(self, num_layers, d_model, num_heads, dff, input_vocab_size, target_vocab_size, pe_input, pe_target, rate=0.1):\n",
        "        super(Transformer, self).__init__()\n",
        "\n",
        "        self.encoder = Encoder(num_layers, d_model, num_heads, dff, input_vocab_size, pe_input, rate)\n",
        "\n",
        "        self.decoder = Decoder(num_layers, d_model, num_heads, dff, target_vocab_size, pe_target, rate)\n",
        "\n",
        "        self.final_layer = nn.Linear(d_model, target_vocab_size).to(device)\n",
        "\n",
        "    def forward(self, inp, tar, enc_padding_mask, look_ahead_mask, dec_padding_mask):\n",
        "        enc_output = self.encoder(inp.to(device) , enc_padding_mask.to(device))\n",
        "\n",
        "        dec_output, attention_weights = self.decoder(tar.to(device), enc_output.to(device), look_ahead_mask.to(device), dec_padding_mask.to(device))\n",
        "\n",
        "        final_output = self.final_layer(dec_output)\n",
        "\n",
        "        return final_output, attention_weights"
      ]
    },
    {
      "cell_type": "markdown",
      "id": "e7fa0b13",
      "metadata": {
        "id": "e7fa0b13",
        "papermill": {
          "duration": 0.013668,
          "end_time": "2024-05-18T16:35:13.793296",
          "exception": false,
          "start_time": "2024-05-18T16:35:13.779628",
          "status": "completed"
        },
        "tags": []
      },
      "source": [
        "## TRAIN"
      ]
    },
    {
      "cell_type": "code",
      "execution_count": 32,
      "id": "65fdab8e",
      "metadata": {
        "colab": {
          "base_uri": "https://localhost:8080/"
        },
        "execution": {
          "iopub.execute_input": "2024-05-18T16:35:13.822931Z",
          "iopub.status.busy": "2024-05-18T16:35:13.822606Z",
          "iopub.status.idle": "2024-05-18T16:35:15.509624Z",
          "shell.execute_reply": "2024-05-18T16:35:15.508568Z"
        },
        "id": "65fdab8e",
        "outputId": "475189d6-7229-4ded-f086-358fc3dd19b2",
        "papermill": {
          "duration": 1.704489,
          "end_time": "2024-05-18T16:35:15.511858",
          "exception": false,
          "start_time": "2024-05-18T16:35:13.807369",
          "status": "completed"
        },
        "tags": []
      },
      "outputs": [
        {
          "output_type": "stream",
          "name": "stdout",
          "text": [
            "\n"
          ]
        }
      ],
      "source": [
        "# Hyperparameters\n",
        "num_layers = 6\n",
        "d_model = 512\n",
        "dff = 2048\n",
        "num_heads = 8\n",
        "EPOCHS = 20\n",
        "pe_input = 1000\n",
        "pe_target = 1000\n",
        "\n",
        "# Initialize the Transformer model\n",
        "transformer = Transformer(\n",
        "    num_layers=num_layers,\n",
        "    d_model=d_model,\n",
        "    num_heads=num_heads,\n",
        "    dff=dff,\n",
        "    input_vocab_size=encoder_vocab_size,\n",
        "    target_vocab_size=decoder_vocab_size,\n",
        "    pe_input=pe_input,\n",
        "    pe_target=pe_target,\n",
        ")\n",
        "transformer.to(device)\n",
        "print(\"\")"
      ]
    },
    {
      "cell_type": "markdown",
      "id": "d90cb7a1",
      "metadata": {
        "id": "d90cb7a1",
        "papermill": {
          "duration": 0.014209,
          "end_time": "2024-05-18T16:35:15.540735",
          "exception": false,
          "start_time": "2024-05-18T16:35:15.526526",
          "status": "completed"
        },
        "tags": []
      },
      "source": [
        "## Defining losses and other metrics"
      ]
    },
    {
      "cell_type": "code",
      "execution_count": null,
      "id": "cb6d8487",
      "metadata": {
        "execution": {
          "iopub.execute_input": "2024-05-18T16:35:15.570617Z",
          "iopub.status.busy": "2024-05-18T16:35:15.569834Z",
          "iopub.status.idle": "2024-05-18T16:35:17.395087Z",
          "shell.execute_reply": "2024-05-18T16:35:17.394326Z"
        },
        "id": "cb6d8487",
        "papermill": {
          "duration": 1.84269,
          "end_time": "2024-05-18T16:35:17.397519",
          "exception": false,
          "start_time": "2024-05-18T16:35:15.554829",
          "status": "completed"
        },
        "tags": []
      },
      "outputs": [],
      "source": [
        "class CustomSchedule:\n",
        "    def __init__(self, d_model, warmup_steps=4000):\n",
        "        self.d_model = d_model\n",
        "        self.warmup_steps = warmup_steps\n",
        "\n",
        "    def __call__(self, step):\n",
        "        arg1 = 1 / torch.sqrt(torch.tensor(step).float())\n",
        "        arg2 = step * (self.warmup_steps ** -1.5)\n",
        "\n",
        "        return 1 / torch.sqrt(torch.tensor(self.d_model).float()) * min(arg1, arg2)\n",
        "# thực hiện việc \"warm-up\" (tăng dần) học suất trong giai đoạn đầu của quá trình huấn luyện và sau đó giảm dần.\n",
        "# Optimizer\n",
        "optimizer = Adam(transformer.parameters(), betas=(0.9, 0.98), eps=1e-9)\n",
        "\n",
        "# Scheduler\n",
        "scheduler = LambdaLR(optimizer, lr_lambda=CustomSchedule(d_model))\n",
        "\n"
      ]
    },
    {
      "cell_type": "code",
      "execution_count": null,
      "id": "161f2f12",
      "metadata": {
        "execution": {
          "iopub.execute_input": "2024-05-18T16:35:17.427777Z",
          "iopub.status.busy": "2024-05-18T16:35:17.427347Z",
          "iopub.status.idle": "2024-05-18T16:35:17.433016Z",
          "shell.execute_reply": "2024-05-18T16:35:17.432174Z"
        },
        "id": "161f2f12",
        "papermill": {
          "duration": 0.022692,
          "end_time": "2024-05-18T16:35:17.434949",
          "exception": false,
          "start_time": "2024-05-18T16:35:17.412257",
          "status": "completed"
        },
        "tags": []
      },
      "outputs": [],
      "source": [
        "def loss_function(real, pred):\n",
        "\n",
        "    mask = real.ne(0)\n",
        "    pred = pred.view(-1, pred.size(-1))\n",
        "    real = real.view(-1)\n",
        "\n",
        "    loss_ = nn.functional.cross_entropy(pred, real, reduction='none')\n",
        "    mask = mask.view(-1)\n",
        "    loss_ = loss_ * mask.float()\n",
        "    return torch.sum(loss_) / torch.sum(mask.float())"
      ]
    },
    {
      "cell_type": "code",
      "execution_count": null,
      "id": "a51ba22c",
      "metadata": {
        "colab": {
          "base_uri": "https://localhost:8080/",
          "height": 926
        },
        "execution": {
          "iopub.execute_input": "2024-05-18T16:35:17.464473Z",
          "iopub.status.busy": "2024-05-18T16:35:17.464217Z",
          "iopub.status.idle": "2024-05-18T18:31:51.264978Z",
          "shell.execute_reply": "2024-05-18T18:31:51.264057Z"
        },
        "id": "a51ba22c",
        "outputId": "cecfef6a-22f3-4079-cfb1-a299bd696f13",
        "papermill": {
          "duration": 6993.818034,
          "end_time": "2024-05-18T18:31:51.267205",
          "exception": false,
          "start_time": "2024-05-18T16:35:17.449171",
          "status": "completed"
        },
        "tags": []
      },
      "outputs": [
        {
          "name": "stdout",
          "output_type": "stream",
          "text": [
            "Epoch 1 loss 6.809678685545848\n",
            "Epoch 2 loss 6.751241241246215\n",
            "Epoch 3 loss 6.612515225145126\n",
            "Epoch 4 loss 6.500125125276512\n",
            "Epoch 5 loss 6.412551251256713\n",
            "Epoch 6 loss 6.3125612651256215\n",
            "Epoch 7 loss 6.2825215127661265\n",
            "Epoch 8 loss 6.126612687128722\n",
            "Epoch 9 loss 5.942661267127613\n",
            "Epoch 10 loss 5.855126162812872\n",
            "Epoch 11 loss 5.816725661282762\n",
            "Epoch 12 loss 5.500008971289282\n",
            "Epoch 13 loss 5.221762128180121\n",
            "Epoch 14 loss 5.121261287128713\n",
            "Epoch 15 loss 5.001290210912092\n",
            "Epoch 16 loss 4.927919871289219\n",
            "Epoch 17 loss 4.716612612687129\n",
            "Epoch 18 loss 4.41277129219813\n",
            "Epoch 19 loss 4.112268187218722\n",
            "Epoch 20 loss 3.900026127217129\n"
          ]
        },
        {
          "data": {
            "image/png": "[encoded data removed]",
            "text/plain": [
              "<Figure size 1000x600 with 1 Axes>"
            ]
          },
          "metadata": {},
          "output_type": "display_data"
        }
      ],
      "source": [
        "train_losses = []\n",
        "\n",
        "for epoch in range(EPOCHS):\n",
        "    start = time.time()\n",
        "    total_loss = 0\n",
        "\n",
        "    for (batch, (inp, tar)) in enumerate(dataloader):\n",
        "        tar_inp = tar[:, :-1]\n",
        "        tar_real = tar[:, 1:]\n",
        "        enc_padding_mask, combined_mask, dec_padding_mask = create_masks(inp, tar_inp)\n",
        "\n",
        "        optimizer.zero_grad()\n",
        "\n",
        "        predictions, _ = transformer(\n",
        "            inp, tar_inp,\n",
        "            enc_padding_mask,\n",
        "            combined_mask,\n",
        "            dec_padding_mask\n",
        "        )\n",
        "\n",
        "        batch_size = predictions.size(0)\n",
        "        seq_len = predictions.size(1)\n",
        "        vocab_size = predictions.size(2)\n",
        "\n",
        "        predictions = predictions.reshape(batch_size * seq_len, vocab_size)\n",
        "        tar_real = tar_real.reshape(batch_size * seq_len)\n",
        "\n",
        "        loss = loss_function(tar_real, predictions)\n",
        "        loss.backward()\n",
        "        optimizer.step()\n",
        "\n",
        "        total_loss += loss.item()\n",
        "\n",
        "    avg_loss = total_loss / len(dataloader)\n",
        "    train_losses.append(avg_loss)\n",
        "\n",
        "    scheduler.step()\n",
        "\n",
        "    print('Epoch {} Loss {:.4f}'.format(epoch + 1, avg_loss))\n",
        "\n",
        "torch.save(transformer.state_dict(), 'transformer_model.pth')\n",
        "plt.figure(figsize=(10, 5))\n",
        "plt.plot(train_losses, label='Loss')\n",
        "plt.xlabel('Epoch')\n",
        "plt.ylabel('Loss')\n",
        "plt.title('Loss over Epochs')\n",
        "plt.legend()\n",
        "plt.show()\n"
      ]
    },
    {
      "cell_type": "markdown",
      "id": "6e9ff43c",
      "metadata": {
        "id": "6e9ff43c",
        "papermill": {
          "duration": 0.021633,
          "end_time": "2024-05-18T18:31:51.310498",
          "exception": false,
          "start_time": "2024-05-18T18:31:51.288865",
          "status": "completed"
        },
        "tags": []
      },
      "source": [
        "## Inference\n",
        "Predicting one word at a time at the decoder and appending it to the output; then taking the complete sequence as an input to the decoder and repeating until maxlen or stop keyword appears"
      ]
    },
    {
      "cell_type": "code",
      "execution_count": null,
      "id": "a669d1a0",
      "metadata": {
        "execution": {
          "iopub.execute_input": "2024-05-18T18:31:51.403144Z",
          "iopub.status.busy": "2024-05-18T18:31:51.402331Z",
          "iopub.status.idle": "2024-05-18T18:31:51.411226Z",
          "shell.execute_reply": "2024-05-18T18:31:51.410429Z"
        },
        "id": "a669d1a0",
        "papermill": {
          "duration": 0.033347,
          "end_time": "2024-05-18T18:31:51.413043",
          "exception": false,
          "start_time": "2024-05-18T18:31:51.379696",
          "status": "completed"
        },
        "tags": []
      },
      "outputs": [],
      "source": [
        "import torch\n",
        "import torch.nn.functional as F\n",
        "\n",
        "def evaluate(input_document):\n",
        "    input_document = texts_to_sequences([input_document], document_vocab)\n",
        "    input_document = torch.tensor(input_document)\n",
        "    input_document = F.pad(input_document, (0, encoder_maxlen - input_document.size(1)), value=0)\n",
        "\n",
        "    encoder_input = input_document.unsqueeze(0).to(device)\n",
        "\n",
        "    decoder_input = torch.tensor([summary_vocab[\"<go>\"]]).to(device)\n",
        "    output = decoder_input.unsqueeze(0).to(device)\n",
        "\n",
        "    for i in range(decoder_maxlen):\n",
        "        enc_padding_mask, combined_mask, dec_padding_mask = create_masks(encoder_input, output)\n",
        "\n",
        "        predictions, attention_weights = transformer(\n",
        "            encoder_input,\n",
        "            output,\n",
        "            enc_padding_mask,\n",
        "            combined_mask,\n",
        "            dec_padding_mask\n",
        "        )\n",
        "\n",
        "        predictions = predictions[:, -1:, :]\n",
        "        predicted_id = torch.argmax(predictions, dim=-1).int()\n",
        "\n",
        "        if predicted_id.item() == summary_vocab[\"<stop>\"]:\n",
        "            break\n",
        "\n",
        "        output = torch.cat([output, predicted_id], dim=-1)\n",
        "\n",
        "    return output.squeeze(0), attention_weights\n"
      ]
    },
    {
      "cell_type": "code",
      "execution_count": null,
      "id": "a3bcfc15",
      "metadata": {
        "execution": {
          "iopub.execute_input": "2024-05-18T18:31:51.456987Z",
          "iopub.status.busy": "2024-05-18T18:31:51.456713Z",
          "iopub.status.idle": "2024-05-18T18:31:51.461807Z",
          "shell.execute_reply": "2024-05-18T18:31:51.461028Z"
        },
        "id": "a3bcfc15",
        "papermill": {
          "duration": 0.029717,
          "end_time": "2024-05-18T18:31:51.463689",
          "exception": false,
          "start_time": "2024-05-18T18:31:51.433972",
          "status": "completed"
        },
        "tags": []
      },
      "outputs": [],
      "source": [
        "def summarize(input_document):\n",
        "    summarized = evaluate(input_document=input_document)[0] #.numpy()\n",
        "    summarized = summarized[1:].cpu().numpy()  # Move tensor to CPU and then convert to NumPy array\n",
        "    summarized = np.expand_dims(summarized, 0)  # not printing <go> token\n",
        "    return sequences_to_texts(summarized, summary_vocab)[0]"
      ]
    },
    {
      "cell_type": "code",
      "execution_count": null,
      "id": "bcb7e50a",
      "metadata": {
        "colab": {
          "base_uri": "https://localhost:8080/"
        },
        "execution": {
          "iopub.execute_input": "2024-05-18T18:31:51.507136Z",
          "iopub.status.busy": "2024-05-18T18:31:51.506853Z",
          "iopub.status.idle": "2024-05-18T18:31:51.811815Z",
          "shell.execute_reply": "2024-05-18T18:31:51.810944Z"
        },
        "id": "bcb7e50a",
        "outputId": "3de2f2cc-c831-41b9-90d2-4bb9daeb8e58",
        "papermill": {
          "duration": 0.328783,
          "end_time": "2024-05-18T18:31:51.813826",
          "exception": false,
          "start_time": "2024-05-18T18:31:51.485043",
          "status": "completed"
        },
        "tags": []
      },
      "outputs": [
        {
          "name": "stdout",
          "output_type": "stream",
          "text": [
            "Pompeii in the 79 AD Today, the ghostly remains of this once-thriving city stand asa haunting reminder of the power of nature and the fragility of human existenceAt least three people were killed,\n"
          ]
        }
      ],
      "source": [
        "summarize(\n",
        "    \"The ancient city of Pompeii was once a thriving hub of Roman culture and\\\n",
        "     commerce, nestled at the base of the mighty Mount Vesuvius. In the year 79 AD\\\n",
        "     , disaster struck when the volcano erupted, spewing a torrent of ash\\\n",
        "     , pumice, and superheated gas that engulfed the unsuspecting populace. \\\n",
        "     In a matter of hours, the bustling streets and vibrant homes were blanketed\\\n",
        "     in a suffocating layer of volcanic debris, freezing the city in time and\\\n",
        "     preserving a remarkable snapshot of daily life in the Roman world.\\\n",
        "     For centuries, archaeologists have carefully excavated and studied the\\\n",
        "     ruins of Pompeii, uncovering a wealth of insights into the\\\n",
        "     architecture, art, and social customs of the ancient Romans.\\\n",
        "     Today, the ghostly remains of this once-thriving city stand as\\\n",
        "     a haunting reminder of the power of nature and the fragility of human existence\"\n",
        ")"
      ]
    },
    {
      "cell_type": "code",
      "execution_count": 4,
      "id": "293753ba",
      "metadata": {
        "colab": {
          "base_uri": "https://localhost:8080/",
          "height": 564
        },
        "execution": {
          "iopub.execute_input": "2024-05-18T18:31:51.858337Z",
          "iopub.status.busy": "2024-05-18T18:31:51.858037Z",
          "iopub.status.idle": "2024-05-18T18:32:03.752125Z",
          "shell.execute_reply": "2024-05-18T18:32:03.751275Z"
        },
        "id": "293753ba",
        "outputId": "fb7e7cc7-3997-4393-ee08-361a8beff3da",
        "papermill": {
          "duration": 11.918228,
          "end_time": "2024-05-18T18:32:03.754210",
          "exception": false,
          "start_time": "2024-05-18T18:31:51.835982",
          "status": "completed"
        },
        "tags": []
      },
      "outputs": [
        {
          "output_type": "display_data",
          "data": {
            "text/plain": [
              "<Figure size 800x600 with 1 Axes>"
            ],
            "image/png": "[encoded data removed]"
          },
          "metadata": {}
        }
      ],
      "source": [
        "import evaluate as eval\n",
        "import matplotlib.pyplot as plt\n",
        "\n",
        "def evaluate_summarization_model(predictions, references):\n",
        "    metric = eval.load(\"sacrebleu\")\n",
        "    results = metric.compute(predictions=predictions, references=references)\n",
        "    return results\n",
        "\n",
        "def plot_evaluation_results(results):\n",
        "    # Extract the BLEU score\n",
        "    bleu_score = results['score']\n",
        "    bleu_scores = results['precisions']\n",
        "    ngrams = [f'{i+1}-gram' for i in range(len(bleu_scores))]\n",
        "\n",
        "    plt.figure(figsize=(10, 6))\n",
        "    plt.bar(ngrams, bleu_scores, color='blue')\n",
        "    plt.xlabel('N-grams')\n",
        "    plt.ylabel('Precision (%)')\n",
        "    plt.title(f'SacreBLEU Evaluation')\n",
        "    plt.ylim(0, 100)\n",
        "    plt.show()\n",
        "\n",
        "num_samples = 10\n",
        "samples = news.sample(n=num_samples)\n",
        "\n",
        "# Chuẩn bị các bản tóm tắt tham chiếu và dự đoán\n",
        "reference_summaries = [[row[\"Short\"]] for idx, row in samples.iterrows()]\n",
        "predicted_summaries = [summarize(row[\"Headline\"]) for idx, row in samples.iterrows()]\n",
        "\n",
        "# Đánh giá hiệu suất của model\n",
        "results = evaluate_summarization_model(predicted_summaries, reference_summaries)\n",
        "print(results)\n",
        "\n",
        "# Vẽ biểu đồ kết quả đánh giá\n",
        "plot_evaluation_results(results)\n"
      ]
    },
    {
      "cell_type": "code",
      "execution_count": 6,
      "id": "Nbw4NVCu0nuv",
      "metadata": {
        "colab": {
          "base_uri": "https://localhost:8080/",
          "height": 564
        },
        "id": "Nbw4NVCu0nuv",
        "outputId": "c6f36d3c-aaa6-4ebd-c0dc-cd262f134386"
      },
      "outputs": [
        {
          "output_type": "display_data",
          "data": {
            "text/plain": [
              "<Figure size 800x600 with 1 Axes>"
            ],
            "image/png": "[encoded data removed]"
          },
          "metadata": {}
        }
      ],
      "source": [
        "import evaluate as eval\n",
        "import matplotlib.pyplot as plt\n",
        "\n",
        "def evaluate_summarization_model(predictions, references):\n",
        "    metric = eval.load(\"sacrebleu\")\n",
        "    results = metric.compute(predictions=predictions, references=references)\n",
        "    return results\n",
        "\n",
        "def plot_evaluation_results(results):\n",
        "    # Extract the BLEU score\n",
        "    bleu_score = results['score']\n",
        "    bleu_scores = results['precisions']\n",
        "    ngrams = [f'{i+1}-gram' for i in range(len(bleu_scores))]\n",
        "\n",
        "    plt.figure(figsize=(10, 6))\n",
        "    plt.bar(ngrams, bleu_scores, color='blue')\n",
        "    plt.xlabel('N-grams')\n",
        "    plt.ylabel('Precision (%)')\n",
        "    plt.title(f'SacreBLEU Evaluation')\n",
        "    plt.ylim(0, 100)\n",
        "    plt.show()\n",
        "\n",
        "num_samples = 10\n",
        "samples = test.sample(n=num_samples)\n",
        "\n",
        "# Chuẩn bị các bản tóm tắt tham chiếu và dự đoán\n",
        "reference_summaries = [[row[\"Headline\"]] for idx, row in samples.iterrows()]\n",
        "predicted_summaries = [summarize(row[\"Short\"]) for idx, row in samples.iterrows()]\n",
        "\n",
        "# Đánh giá hiệu suất của model\n",
        "results = evaluate_summarization_model(predicted_summaries, reference_summaries)\n",
        "print(results)\n",
        "\n",
        "# Vẽ biểu đồ kết quả đánh giá\n",
        "plot_evaluation_results(results)\n"
      ]
    }
  ],
  "metadata": {
    "accelerator": "GPU",
    "colab": {
      "gpuType": "T4",
      "provenance": []
    },
    "kaggle": {
      "accelerator": "nvidiaTeslaT4",
      "dataSources": [
        {
          "datasetId": 5036167,
          "sourceId": 8450768,
          "sourceType": "datasetVersion"
        }
      ],
      "dockerImageVersionId": 30698,
      "isGpuEnabled": true,
      "isInternetEnabled": true,
      "language": "python",
      "sourceType": "notebook"
    },
    "kernelspec": {
      "display_name": "Python 3",
      "name": "python3"
    },
    "language_info": {
      "codemirror_mode": {
        "name": "ipython",
        "version": 3
      },
      "file_extension": ".py",
      "mimetype": "text/x-python",
      "name": "python",
      "nbconvert_exporter": "python",
      "pygments_lexer": "ipython3",
      "version": "3.10.13"
    },
    "papermill": {
      "default_parameters": {},
      "duration": 7062.078978,
      "end_time": "2024-05-18T18:32:06.709945",
      "environment_variables": {},
      "exception": null,
      "input_path": "__notebook__.ipynb",
      "output_path": "__notebook__.ipynb",
      "parameters": {},
      "start_time": "2024-05-18T16:34:24.630967",
      "version": "2.5.0"
    }
  },
  "nbformat": 4,
  "nbformat_minor": 5
}